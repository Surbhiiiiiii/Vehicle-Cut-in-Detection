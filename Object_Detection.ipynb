{
  "nbformat": 4,
  "nbformat_minor": 0,
  "metadata": {
    "colab": {
      "provenance": []
    },
    "kernelspec": {
      "name": "python3",
      "display_name": "Python 3"
    },
    "language_info": {
      "name": "python"
    }
  },
  "cells": [
    {
      "cell_type": "code",
      "execution_count": null,
      "metadata": {
        "id": "_wv9ju0p1BpC"
      },
      "outputs": [],
      "source": [
        "import cv2\n",
        "import torch\n",
        "import numpy as np\n",
        "import pandas as pd\n",
        "from matplotlib import pyplot as plt\n",
        "\n",
        "# Load YOLOv5 model\n",
        "model = torch.hub.load('ultralytics/yolov5', 'yolov5s')\n",
        "\n",
        "def detect_vehicles(image):\n",
        "    results = model(image)\n",
        "    detections = results.pandas().xyxy[0]  # Extracting detections as a pandas DataFrame\n",
        "\n",
        "    vehicles = []\n",
        "    for _, row in detections.iterrows():\n",
        "        if row['name'] in [\"car\", \"bus\", \"truck\", \"motorcycle\", \"bicycle\"]:\n",
        "            x, y, w, h = int(row['xmin']), int(row['ymin']), int(row['xmax']) - int(row['xmin']), int(row['ymax']) - int(row['ymin'])\n",
        "            vehicles.append((x, y, w, h, row['name']))\n",
        "\n",
        "    return vehicles\n",
        "\n",
        "def draw_bounding_boxes(image, vehicles):\n",
        "    for (x, y, w, h, label) in vehicles:\n",
        "        # Draw the bounding box\n",
        "        cv2.rectangle(image, (x, y), (x + w, y + h), (0, 0, 255), 2)\n",
        "\n",
        "        # Add the label and measurements\n",
        "        text = f\"{label}: {w}x{h}px\"\n",
        "        cv2.putText(image, text, (x, y - 10), cv2.FONT_HERSHEY_SIMPLEX, 0.5, (0, 0, 255), 2)\n",
        "\n",
        "    return image\n",
        "\n",
        "# Load the image\n",
        "image_path = \"/content/sample_data/0022713.jpeg\"  # Replace with the path to your image\n",
        "image = cv2.imread(image_path)\n",
        "\n",
        "# Detect vehicles in the image\n",
        "vehicles = detect_vehicles(image)\n",
        "\n",
        "# Draw bounding boxes around the detected vehicles and display their measurements\n",
        "image_with_boxes = draw_bounding_boxes(image, vehicles)\n",
        "\n",
        "# Convert the image from BGR to RGB (for displaying with matplotlib)\n",
        "image_with_boxes_rgb = cv2.cvtColor(image_with_boxes, cv2.COLOR_BGR2RGB)\n",
        "\n",
        "# Display the image with bounding boxes\n",
        "plt.figure(figsize=(10, 10))\n",
        "plt.imshow(image_with_boxes_rgb)\n",
        "plt.axis('off')\n",
        "plt.show()\n",
        "\n",
        "# Save the image with bounding boxes\n",
        "output_path = \"/content/Screenshot 2024-07-04 143632.png\"  # Replace with the path to save the output image\n",
        "cv2.imwrite(output_path, image_with_boxes)\n",
        "\n",
        "# Save annotations to a CSV file\n",
        "annotations = []\n",
        "for (x, y, w, h, label) in vehicles:\n",
        "    annotations.append([x, y, x + w, y + h, label])\n",
        "\n",
        "annotations_df = pd.DataFrame(annotations, columns=['xmin', 'ymin', 'xmax', 'ymax', 'label'])\n",
        "annotations_path = \"/content/sample_data/daily_weather.csv\"  # Replace with the path to save the annotations\n",
        "annotations_df.to_csv(annotations_path, index=False)\n"
      ]
    }
  ]
}